{
 "cells": [
  {
   "cell_type": "markdown",
   "metadata": {},
   "source": [
    "# 변수 \n",
    "- 데이터를 저장하는 공간의 이름\n",
    "    - 데이터 범위 \n",
    "        - 단일데이터 \n",
    "            - 문자 \n",
    "            - 숫자\n",
    "            - Bool\n",
    "        - n차원 데이터 \n",
    "            - tuple\n",
    "            - list\n",
    "            - dict\n",
    "- 변수의 종류 \n",
    "    - 전역 변수\n",
    "        - 어디서든 사용가능한 변수 \n",
    "    - 지역 변수 \n",
    "        - 특정 영역에서만 사용이 가능한 변수 \n",
    "        - 매개변수, 함수 내부에서 생성된 변수\n",
    "    - 매개 변수 \n",
    "        - 함수를 생성할때 입력 값(인자)를 받아오기 위한 공간의 이름\n",
    "        - 기본 값을 지정하여 인자 값이 존재하지 않더라도 함수가 실행\n",
    "    - 객체 변수 \n",
    "        - class 내부에서 self.변수명을 이용하여 객체 안에서만 사용이 가능한 변수(독립적인 변수)\n",
    "        - class 변수 같은 class 안에서 서로 공유가 가능한 변수 "
   ]
  },
  {
   "cell_type": "code",
   "execution_count": null,
   "metadata": {},
   "outputs": [],
   "source": [
    "# 전역 변수를 생성\n",
    "var_1 = \"test\"\n",
    "print(var_1)"
   ]
  },
  {
   "cell_type": "code",
   "execution_count": null,
   "metadata": {},
   "outputs": [],
   "source": [
    "def func_1():\n",
    "    print(var_1)\n",
    "func_1()"
   ]
  },
  {
   "cell_type": "code",
   "execution_count": null,
   "metadata": {},
   "outputs": [],
   "source": [
    "# globals()를 이용한 전역변수 생성 \n",
    "print(globals())"
   ]
  },
  {
   "cell_type": "code",
   "execution_count": null,
   "metadata": {},
   "outputs": [],
   "source": [
    "# 반복문을 이용해서 전역변수를 여러개 생성\n",
    "for i in range(3):\n",
    "    # globals() -> dict\n",
    "    globals()[f\"for_var_{i}\"] = i\n"
   ]
  },
  {
   "cell_type": "code",
   "execution_count": null,
   "metadata": {},
   "outputs": [],
   "source": [
    "print(for_var_0)\n",
    "print(for_var_1)\n",
    "print(for_var_2)"
   ]
  },
  {
   "cell_type": "markdown",
   "metadata": {},
   "source": [
    "# 경로 \n",
    "- 절대 경로\n",
    "    - 절대적인 주소 값\n",
    "    - 어느 환경에서도 주소의 위치는 동일하다. \n",
    "    - ex\n",
    "        - c:/users/admin/document/a.txt\n",
    "        - https://www.google.com\n",
    "- 상대 경로\n",
    "    - 상대적인 주소 값\n",
    "    - 환경에 따라 주소의 위치는 달라진다. \n",
    "    - ex\n",
    "        - ./ : 현재 디렉토리\n",
    "        - ../ : 상위 디렉토리로 이동\n",
    "        - 디렉토리명/ : 하위 디렉토리로 이동"
   ]
  },
  {
   "cell_type": "code",
   "execution_count": null,
   "metadata": {},
   "outputs": [],
   "source": [
    "import pandas as pd"
   ]
  },
  {
   "cell_type": "code",
   "execution_count": null,
   "metadata": {},
   "outputs": [],
   "source": [
    "# 절대 경로를 이용하여 데이터로드 \n",
    "df = pd.read_csv(r'C:\\ubion_2025\\csv\\AAPL.csv')"
   ]
  },
  {
   "cell_type": "code",
   "execution_count": null,
   "metadata": {},
   "outputs": [],
   "source": [
    "# 상대 경로를 이용하여 데이터 로드 \n",
    "df2 = pd.read_csv(\"../../csv/AAPL.csv\")"
   ]
  },
  {
   "cell_type": "markdown",
   "metadata": {},
   "source": [
    "# 함수\n",
    "- 행동 ( 레시피 )\n",
    "- 반복적으로 사용하는 코드를 하나로 묶여서 함수로 표현 \n",
    "- 코드라인이 길어지고 라인이 길어짐으로 가독성이 내려가고 코드의 오류의 확률이 올라간다\n",
    "- def 키워드를 이용해서 생성"
   ]
  },
  {
   "cell_type": "code",
   "execution_count": null,
   "metadata": {},
   "outputs": [],
   "source": [
    "# 매개변수가 존재하지 않는 함수 생성\n",
    "# 단순한 한가지의 행동의 코드 \n",
    "def func_2():\n",
    "    df3 = pd.read_csv(\"../../csv/corona.csv\")\n",
    "    result = df3.to_dict(orient='records')\n",
    "    return result"
   ]
  },
  {
   "cell_type": "code",
   "execution_count": null,
   "metadata": {},
   "outputs": [],
   "source": [
    "func_2()"
   ]
  },
  {
   "cell_type": "code",
   "execution_count": null,
   "metadata": {},
   "outputs": [],
   "source": [
    "# 매개변수가 존재하는 함수를 생성 \n",
    "def func_3(_x, _y):\n",
    "    # _x, _y가 매개변수 -> 지역 변수의 종류 중 하나 \n",
    "    # 함수 내부에서는 사용가능 , 외부에서는 사용이 불가능\n",
    "    result = _x + _y\n",
    "    # result도 지역 변수\n",
    "    # return 함수에서 생성된 데이터를 외부에서 사용 가능하게 되돌려주는 부분\n",
    "    return result\n"
   ]
  },
  {
   "cell_type": "code",
   "execution_count": null,
   "metadata": {},
   "outputs": [],
   "source": [
    "# result는 함수 내부에서 생성된 변수이기때문에 호출이 불가능\n",
    "# print(result)"
   ]
  },
  {
   "cell_type": "code",
   "execution_count": null,
   "metadata": {},
   "outputs": [],
   "source": [
    "# 매개변수가 존재하는 함수를 호출 -> 매개변수의 개수와 인자의 개수가 동일\n",
    "res = func_3(10, 3)"
   ]
  },
  {
   "cell_type": "code",
   "execution_count": null,
   "metadata": {},
   "outputs": [],
   "source": [
    "# 매개변수가 2개 \n",
    "# 숫자 인자값이 들어왔을때 \n",
    "# 숫자들 사이에 값들을 모두 더해서(누적합) 되돌려주는 함수를 생성\n",
    "def func_4(_x, _y):\n",
    "    result = 0\n",
    "    for i in range( min(_x, _y), max(_x, _y) + 1 , 1 ):\n",
    "        result += i\n",
    "    return result"
   ]
  },
  {
   "cell_type": "code",
   "execution_count": null,
   "metadata": {},
   "outputs": [],
   "source": [
    "func_4(1, 10)"
   ]
  },
  {
   "cell_type": "code",
   "execution_count": null,
   "metadata": {},
   "outputs": [],
   "source": [
    "func_4(5, 1)"
   ]
  },
  {
   "cell_type": "code",
   "execution_count": null,
   "metadata": {},
   "outputs": [],
   "source": [
    "# 매개변수에 기본값이 지정되어있는 함수 \n",
    "def func_5(servicekey, page_no = 1):\n",
    "    # servicekey는 'abcd'\n",
    "    if servicekey == 'abcd':\n",
    "        # page당 데이터의 수를 10개 고정\n",
    "        df = pd.read_csv('../../csv/AAPL.csv')\n",
    "        result = df.head( 10 * page_no )\n",
    "        return result\n",
    "    else:\n",
    "        return \"SERVICEKEY ERROR\""
   ]
  },
  {
   "cell_type": "code",
   "execution_count": null,
   "metadata": {},
   "outputs": [],
   "source": [
    "func_5('abcd')"
   ]
  },
  {
   "cell_type": "code",
   "execution_count": null,
   "metadata": {},
   "outputs": [],
   "source": [
    "func_5('abcd', 3)"
   ]
  },
  {
   "cell_type": "code",
   "execution_count": 23,
   "metadata": {},
   "outputs": [
    {
     "data": {
      "text/plain": [
       "'SERVICEKEY ERROR'"
      ]
     },
     "execution_count": 23,
     "metadata": {},
     "output_type": "execute_result"
    }
   ],
   "source": [
    "func_5('asdf')"
   ]
  },
  {
   "cell_type": "code",
   "execution_count": 24,
   "metadata": {},
   "outputs": [],
   "source": [
    "# 인자의 개수가 가변인 경우 \n",
    "def func_6(a, *b):\n",
    "    print(a)\n",
    "    print(b)\n",
    "    "
   ]
  },
  {
   "cell_type": "code",
   "execution_count": 25,
   "metadata": {},
   "outputs": [
    {
     "name": "stdout",
     "output_type": "stream",
     "text": [
      "10\n",
      "()\n"
     ]
    }
   ],
   "source": [
    "func_6(10)"
   ]
  },
  {
   "cell_type": "code",
   "execution_count": 26,
   "metadata": {},
   "outputs": [
    {
     "name": "stdout",
     "output_type": "stream",
     "text": [
      "1\n",
      "(2, 3, 4, 5, 6, 7, 8, 9, 0)\n"
     ]
    }
   ],
   "source": [
    "func_6(1, 2, 3, 4, 5, 6, 7, 8, 9, 0)"
   ]
  },
  {
   "cell_type": "markdown",
   "metadata": {},
   "source": [
    "# Class\n",
    "- 변수 + 함수의 모음\n",
    "- 변수들을 class 끼리 공유하는 변수가 존재 , 독립적인 변수가 존재 \n",
    "- class 내부의 변수의 값을 수정하고 출력하기위한 객체 "
   ]
  },
  {
   "cell_type": "code",
   "execution_count": 35,
   "metadata": {},
   "outputs": [],
   "source": [
    "class Ramen:\n",
    "    cate = {\n",
    "        \"면,라면스프\" : \"라면\", \n",
    "        \"면,짜장스프\" : \"짜장면\", \n",
    "        \"면,라면스프,계란\" : \"계란라면\", \n",
    "        \"면,라면스프,치즈\" : '치즈라면', \n",
    "        \"면,짜장스프,치즈,계란\" : \"짜계치\"\n",
    "    }\n",
    "    # 생성자 함수 : class가 생성될때 최초로 한번 실행하는 함수 \n",
    "    # class 내부에서 사용할 변수의 데이터를 대입하는 과정\n",
    "    # self : class가 생성될때 데이터의 위치(주소)\n",
    "    def __init__(self, a, b):\n",
    "        self.a = a\n",
    "        self.b = b\n",
    "    # 라면을 끓이는 방법(레시피)\n",
    "    def cooking(self, *option):\n",
    "        # 조합 a, b\n",
    "        # 면, 라면스프/짜장스프\n",
    "        # a,b는 문자 \n",
    "        # option -> tuple\n",
    "        res = self.a+','+self.b\n",
    "        for i in option:\n",
    "            res += ','+i\n",
    "        return Ramen.cate[res]"
   ]
  },
  {
   "cell_type": "code",
   "execution_count": 36,
   "metadata": {},
   "outputs": [],
   "source": [
    "class1 = Ramen('면', '라면스프')"
   ]
  },
  {
   "cell_type": "code",
   "execution_count": 37,
   "metadata": {},
   "outputs": [
    {
     "data": {
      "text/plain": [
       "'계란라면'"
      ]
     },
     "execution_count": 37,
     "metadata": {},
     "output_type": "execute_result"
    }
   ],
   "source": [
    "class1.cooking('계란')"
   ]
  },
  {
   "cell_type": "code",
   "execution_count": 38,
   "metadata": {},
   "outputs": [],
   "source": [
    "class2 = Ramen('면', '짜장스프')"
   ]
  },
  {
   "cell_type": "code",
   "execution_count": 39,
   "metadata": {},
   "outputs": [
    {
     "data": {
      "text/plain": [
       "'짜계치'"
      ]
     },
     "execution_count": 39,
     "metadata": {},
     "output_type": "execute_result"
    }
   ],
   "source": [
    "class2.cooking('치즈', '계란')"
   ]
  },
  {
   "cell_type": "markdown",
   "metadata": {},
   "source": [
    "# Pandas \n",
    "- 외부의 데이터를 로드 \n",
    "    - read_xxx( 파일의 경로, encoding='' ) 함수\n",
    "        - 파일의 경로 : 절대 경로, 상대 경로\n",
    "        - encoding : 데이터가 한글인 경우 utf-8 에러가 발생했을때 엔진을 변경(CP949, EUC-KR)\n",
    "    - Series\n",
    "        - 1차원 데이터의 형태 \n",
    "        - Series Class 안에 변수는 적어도 2개가 존재(index, values)\n",
    "    - DataFrame\n",
    "        - 2차원 데이터의 형태 \n",
    "        - DataFrame Class 안에 변수는 적어도 3개 존재 (index, columns, values)\n",
    "        - Series 형태의 데이터가 모여서 생성된 2차원 데이터\n",
    "    - rename() \n",
    "        - 이름을 재지정하는 함수 \n",
    "        - 인덱스의 값을 변경하거나 컬럼의 값을 변경\n",
    "        - 특정 인덱스나 특정 컬럼의 값을 변경할때 사용\n",
    "        - 전체 컬럼의 이름을 변경할때는 DataFrame.columns를 이용하여 변경\n",
    "    - info()\n",
    "        - 데이터프레임의 전체적인 정보를 확인하기 위한 함수\n",
    "        - 인덱스의 개수, 컬럼의 개수, 컬럼별 이름, 데이터의 타입, null이 아닌 데이터의 개수 \n",
    "    - describe()\n",
    "        - 데이터프레임의 기본 통계량을 출력하는 함수 \n",
    "        - 데이터 개수, 최대/최소값, 1사분위, 중앙값, 3사분위, 표준편차등 출력\n",
    "    - map()\n",
    "        - 1차원 데이터에서 value의 값들을 하나씩 추출하여 특정 함수에 대입한 뒤 결과를 Series 변경\n",
    "        - Series.map(함수)\n",
    "            - 일반함수 사용가능\n",
    "            - lambda함수 사용가능\n",
    "    - shift(n)\n",
    "        - 인덱스를 n만큼 이동하는 함수 \n",
    "        - 전날의 데이터와 오늘 데이터를 비교 \n",
    "        - 전월이나 전년도의 데이터를 확인하여 비교\n",
    "    - diff(n)\n",
    "        - 인덱스를 n만큼 이동한 데이터와의 값의 차이를 출력하는 함수\n",
    "    - isna()\n",
    "        - 결측치의 유무를 판단하는 함수 \n",
    "        - sum()를 추가로 사용하면 결측치의 개수를 확인\n",
    "    - isin()\n",
    "        - 1차원데이터에 포함되어있는지 여부를 판단하는 함수\n",
    "    - fillna()\n",
    "        - 결측치는 다른 값을 대체해주는 함수\n",
    "        - 인자에 단일 데이터를 입력하면 해당 데이터로 결측치가 대체\n",
    "        - method 매개변수를 이용\n",
    "            - ffill : 전 인덱스의 데이터로 결측치를 대체 \n",
    "            - bfill : 후 인덱스의 데이터로 결측치를 대체\n",
    "    - groupby()\n",
    "        - 특정 컬럼의 데이터를 기준으로 데이터들을 같은 값들끼리 그룹화 하는 함수\n",
    "        - 그룹화한 데이터에서 평균이나 합계, 최대, 최소, 표준편차, 개수 와 같은 그룹화 연산을 이용할수 있다.\n",
    "    - pivot_table()\n",
    "        - 데이터의 재구조화 함수\n",
    "        - 데이터프레임에서 인덱스, 컬럼, 벨류, 연산식까지 원하는 방법으로 테이블을 재구조화 \n",
    "\n",
    "- 데이터프레임의 결합 \n",
    "    - 유니언 결합 (단순한 결합)\n",
    "        - concat()\n",
    "            - 첫번째 인자값 : 결합할 데이터프레임들을 1차원 데이터로 입력\n",
    "                - 데이터프레임의 개수의 제한은 크게 존재하지 않는다. \n",
    "            - axis : 행으로 결합할것인가?(axis=0) 열로 결합할것인가?(axis=1)\n",
    "            - pandas 안에 내장된 함수 -> 자체적인 데이터가 존재하지 않는다.\n",
    "    - 조인 결합 (특정한 조건에 맞게 열을 결합)\n",
    "        - merge()\n",
    "            - 특정한 조건(특정 컬럼들끼리 같은 데이터)기준으로 열을 결합\n",
    "            - on 매개변수가 특정한 조건인 컬럼의 이름을 지정 \n",
    "            - how 매개변수는 조인의 형태를 지정 \n",
    "                - left, right, inner, outer\n",
    "            - pandas, DataFarme에 내장된 함수 \n",
    "            - 2개의 데이터프레임을 결합하는 함수 \n",
    "            - 3개 이상의 데이터프레임을 조인결합 할때는 merge()를 여러번 사용\n",
    "# 시계열 데이터 \n",
    "    - 시간의 데이터를 의미\n",
    "        - 년, 월, 일, 시, 분, 초, 요일, 반기, 분기, 주, .... 여러개의 데이터의 혼합 형태 \n",
    "    - 시계열데이터로 변환 \n",
    "        - datetime 라이브러리 이용\n",
    "            - datetime.datetime.strptime(문자열데이터, format=\"\")\n",
    "                - format : 문자열 데이터의 형태\n",
    "        - pandas 라이브러리 이용\n",
    "            - to_datetime( Series데이터, format=\"\" )\n",
    "                - format : Series 안에 value의 형태"
   ]
  },
  {
   "cell_type": "code",
   "execution_count": null,
   "metadata": {},
   "outputs": [],
   "source": []
  }
 ],
 "metadata": {
  "kernelspec": {
   "display_name": "Python 3",
   "language": "python",
   "name": "python3"
  },
  "language_info": {
   "codemirror_mode": {
    "name": "ipython",
    "version": 3
   },
   "file_extension": ".py",
   "mimetype": "text/x-python",
   "name": "python",
   "nbconvert_exporter": "python",
   "pygments_lexer": "ipython3",
   "version": "3.11.1"
  }
 },
 "nbformat": 4,
 "nbformat_minor": 2
}
